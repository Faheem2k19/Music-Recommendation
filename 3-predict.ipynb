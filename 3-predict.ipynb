{
 "cells": [
  {
   "cell_type": "markdown",
   "metadata": {},
   "source": [
    "# Predict"
   ]
  },
  {
   "cell_type": "markdown",
   "metadata": {},
   "source": [
    "This notebook predicts which songs you will like given a playlist, using any classifier saved by the **Train** notebook."
   ]
  },
  {
   "cell_type": "code",
   "execution_count": 1,
   "metadata": {},
   "outputs": [],
   "source": [
    "import sklearn\n",
    "from Packages.config import CLIENT_ID, CLIENT_USERNAME, CLIENT_SECRET\n",
    "from Packages.serialize import load_classifier, load_all_classifiers\n",
    "from Packages.spotipy import get_playlist_data, login_to_spotify\n",
    "from Packages.classify import get_playlist_features, classify_playlist\n",
    "\n",
    "\n",
    "SPOTIPY_OBJECT = login_to_spotify(CLIENT_USERNAME, CLIENT_ID, CLIENT_SECRET)"
   ]
  },
  {
   "cell_type": "markdown",
   "metadata": {},
   "source": [
    "### Specify Classifier"
   ]
  },
  {
   "cell_type": "code",
   "execution_count": 2,
   "metadata": {},
   "outputs": [
    {
     "name": "stdout",
     "output_type": "stream",
     "text": [
      "Please enter a classifier filename or leave blank, and press enter:\n",
      "22wyhb2s4re2vkp5xrpm7rfaa2020-09-20@031710.pkl\n",
      "\n",
      "Classifier successfully loaded.\n"
     ]
    }
   ],
   "source": [
    "print('Please enter a classifier filename or leave blank, and press enter:')\n",
    "CLASSIFIER_FILENAME = input()\n",
    "# Use the full name of any file in the 'classifiers' folder\n",
    "\n",
    "if CLASSIFIER_FILENAME:\n",
    "    CLASSIFIERS = [(load_classifier(CLASSIFIER_FILENAME), CLASSIFIER_FILENAME)]\n",
    "else:\n",
    "    CLASSIFIERS = load_all_classifiers()\n",
    "    \n",
    "print('\\nClassifier successfully loaded.')"
   ]
  },
  {
   "cell_type": "markdown",
   "metadata": {},
   "source": [
    "### Specify Playlist"
   ]
  },
  {
   "cell_type": "code",
   "execution_count": 3,
   "metadata": {},
   "outputs": [
    {
     "name": "stdout",
     "output_type": "stream",
     "text": [
      "Please enter a Spotify playlist ID or URI, and press enter:\n",
      "spotify:playlist:0NTgvtwPkkoKNhYYMQXnGN\n",
      "\n",
      "Playlist successfully downloaded.\n"
     ]
    },
    {
     "data": {
      "application/vnd.jupyter.widget-view+json": {
       "model_id": "c2ec73b660e54423bec5b7108bc698f6",
       "version_major": 2,
       "version_minor": 0
      },
      "text/plain": [
       "HBox(children=(IntProgress(value=0, description='Saving playlist data...', max=10, style=ProgressStyle(descrip…"
      ]
     },
     "metadata": {},
     "output_type": "display_data"
    },
    {
     "name": "stdout",
     "output_type": "stream",
     "text": [
      "\n"
     ]
    },
    {
     "data": {
      "application/vnd.jupyter.widget-view+json": {
       "model_id": "2b082dbca95a4bd7b15c6001ebb70f60",
       "version_major": 2,
       "version_minor": 0
      },
      "text/plain": [
       "HBox(children=(IntProgress(value=0, description='Downloading audio features...', max=1, style=ProgressStyle(de…"
      ]
     },
     "metadata": {},
     "output_type": "display_data"
    },
    {
     "name": "stdout",
     "output_type": "stream",
     "text": [
      "\n"
     ]
    },
    {
     "data": {
      "application/vnd.jupyter.widget-view+json": {
       "model_id": "4965bf9007b146dbb2b0f418844aed01",
       "version_major": 2,
       "version_minor": 0
      },
      "text/plain": [
       "HBox(children=(IntProgress(value=0, description='Parsing track features...', max=10, style=ProgressStyle(descr…"
      ]
     },
     "metadata": {},
     "output_type": "display_data"
    },
    {
     "name": "stdout",
     "output_type": "stream",
     "text": [
      "\n"
     ]
    },
    {
     "data": {
      "application/vnd.jupyter.widget-view+json": {
       "model_id": "5fe55622b18b44ceaf222c33a1f74160",
       "version_major": 2,
       "version_minor": 0
      },
      "text/plain": [
       "HBox(children=(IntProgress(value=0, description='Parsing artist data...', max=10, style=ProgressStyle(descript…"
      ]
     },
     "metadata": {},
     "output_type": "display_data"
    },
    {
     "name": "stdout",
     "output_type": "stream",
     "text": [
      "\n"
     ]
    },
    {
     "data": {
      "application/vnd.jupyter.widget-view+json": {
       "model_id": "74b827bed21d497196cf4f0a852f9da1",
       "version_major": 2,
       "version_minor": 0
      },
      "text/plain": [
       "HBox(children=(IntProgress(value=0, description='Building final dataframe...', max=10, style=ProgressStyle(des…"
      ]
     },
     "metadata": {},
     "output_type": "display_data"
    },
    {
     "name": "stdout",
     "output_type": "stream",
     "text": [
      "\n"
     ]
    },
    {
     "name": "stderr",
     "output_type": "stream",
     "text": [
      "C:\\Users\\fahim\\Anaconda3\\lib\\site-packages\\sklearn\\preprocessing\\data.py:334: DataConversionWarning: Data with input dtype float64, object were all converted to float64 by MinMaxScaler.\n",
      "  return self.partial_fit(X, y)\n"
     ]
    },
    {
     "data": {
      "application/vnd.jupyter.widget-view+json": {
       "model_id": "2cee0e92b2fc41cca1d9d04f9852d8d4",
       "version_major": 2,
       "version_minor": 0
      },
      "text/plain": [
       "HBox(children=(IntProgress(value=1, bar_style='info', description='Reading data from .csv...', max=1, style=Pr…"
      ]
     },
     "metadata": {},
     "output_type": "display_data"
    },
    {
     "name": "stdout",
     "output_type": "stream",
     "text": [
      "\n",
      "Playlist successfully parsed.\n"
     ]
    }
   ],
   "source": [
    "print('Please enter a Spotify playlist ID or URI, and press enter:')\n",
    "PLAYLIST = input()\n",
    "# specify a playlist\n",
    "\n",
    "if not PLAYLIST: raise RuntimeError('Please specify a playlist.')\n",
    "\n",
    "# download Spotify playlist data\n",
    "playlist_data, playlist_name = get_playlist_data(\n",
    "    SPOTIPY_OBJECT,\n",
    "    CLIENT_ID,\n",
    "    PLAYLIST)\n",
    "\n",
    "print('\\nPlaylist successfully downloaded.')\n",
    "\n",
    "# parse/wrangle playlist data\n",
    "playlist_feature_data, playlist_data_dict = get_playlist_features(\n",
    "    SPOTIPY_OBJECT,\n",
    "    playlist_data,\n",
    "    playlist_name\n",
    ")\n",
    "\n",
    "print('Playlist successfully parsed.')"
   ]
  },
  {
   "cell_type": "markdown",
   "metadata": {},
   "source": [
    "### Predict"
   ]
  },
  {
   "cell_type": "markdown",
   "metadata": {},
   "source": [
    "Recommendations for the current playlist and classifier(s)."
   ]
  },
  {
   "cell_type": "code",
   "execution_count": 4,
   "metadata": {},
   "outputs": [
    {
     "name": "stdout",
     "output_type": "stream",
     "text": [
      "The classifier 22wyhb2s4re2vkp5xrpm7rfaa2020-09-20@031710.pkl thinks you'd like the following from the given playlist:\n",
      "\n",
      "Mr. Tambourine Man\n",
      "Fall\n",
      "wHo\n",
      "Pehla Nasha\n",
      "\n"
     ]
    }
   ],
   "source": [
    "for clf in CLASSIFIERS:\n",
    "    classify_playlist(clf, playlist_feature_data, playlist_data_dict)"
   ]
  },
  {
   "cell_type": "code",
   "execution_count": null,
   "metadata": {},
   "outputs": [],
   "source": []
  }
 ],
 "metadata": {
  "kernelspec": {
   "display_name": "Python 3",
   "language": "python",
   "name": "python3"
  },
  "language_info": {
   "codemirror_mode": {
    "name": "ipython",
    "version": 3
   },
   "file_extension": ".py",
   "mimetype": "text/x-python",
   "name": "python",
   "nbconvert_exporter": "python",
   "pygments_lexer": "ipython3",
   "version": "3.7.4"
  }
 },
 "nbformat": 4,
 "nbformat_minor": 2
}