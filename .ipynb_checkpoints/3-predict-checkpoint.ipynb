{
 "cells": [
  {
   "cell_type": "markdown",
   "metadata": {},
   "source": [
    "# Predict"
   ]
  },
  {
   "cell_type": "markdown",
   "metadata": {},
   "source": [
    "This notebook predicts which songs you will like given a playlist, using any classifier saved by the **Train** notebook."
   ]
  },
  {
   "cell_type": "code",
   "execution_count": null,
   "metadata": {},
   "outputs": [],
   "source": [
    "import sklearn\n",
    "from packages.config import CLIENT_ID, CLIENT_USERNAME, CLIENT_SECRET\n",
    "from packages.serialize import load_classifier, load_all_classifiers\n",
    "from packages.spotipy import get_playlist_data, login_to_spotify\n",
    "from packages.classify import get_playlist_features, classify_playlist\n",
    "\n",
    "# \"log in\" to Spotify\n",
    "SPOTIPY_OBJECT = login_to_spotify(CLIENT_USERNAME, CLIENT_ID, CLIENT_SECRET)"
   ]
  },
  {
   "cell_type": "markdown",
   "metadata": {},
   "source": [
    "### Specify Classifier"
   ]
  },
  {
   "cell_type": "markdown",
   "metadata": {},
   "source": [
    "Run the following cell, and enter the full filename of any classifier file in the 'classifiers' folder, e.g. user_name2019-04-21@164523.pkl.\n",
    "\n",
    "You can specify a single classifier by filename, **or** leave it blank to run all classifiers in the `/classifiers` directory."
   ]
  },
  {
   "cell_type": "code",
   "execution_count": null,
   "metadata": {},
   "outputs": [],
   "source": [
    "print('Please enter a classifier filename or leave blank, and press enter:')\n",
    "CLASSIFIER_FILENAME = input()\n",
    "# Use the full name of any file in the 'classifiers' folder, e.g. user_name2019-04-21@164523.pkl\n",
    "# Provide a blank input to run all classifiers.\n",
    "\n",
    "if CLASSIFIER_FILENAME:\n",
    "    CLASSIFIERS = [(load_classifier(CLASSIFIER_FILENAME), CLASSIFIER_FILENAME)]\n",
    "else:\n",
    "    CLASSIFIERS = load_all_classifiers()\n",
    "    \n",
    "print('\\nClassifier(s) successfully loaded.')"
   ]
  },
  {
   "cell_type": "markdown",
   "metadata": {},
   "source": [
    "### Specify Playlist"
   ]
  },
  {
   "cell_type": "markdown",
   "metadata": {},
   "source": [
    "Run the following cell, and enter the full playlist ID (Spotify URI) of the playlist you would like to run the classifier on. Your playlist ID is accessible by right-clicking on a playlist within Spotify -> Share -> Copy Spotify URI, and removing the `spotify:user:USERNAME:playlist:` portion of the Spotify URI.\n",
    "\n",
    "e.g. `spotify:user:USERNAME:playlist:PLAYLIST_ID` (Spotify URI)"
   ]
  },
  {
   "cell_type": "code",
   "execution_count": null,
   "metadata": {},
   "outputs": [],
   "source": [
    "print('Please enter a Spotify playlist ID or URI, and press enter:')\n",
    "PLAYLIST = input()\n",
    "# You must specify a playlist\n",
    "# e.g. spotify:user:USERNAME:playlist:PLAYLIST_ID (Spotify URI)\n",
    "\n",
    "if not PLAYLIST: raise RuntimeError('Please specify a playlist.')\n",
    "\n",
    "# download Spotify playlist data\n",
    "playlist_data, playlist_name = get_playlist_data(\n",
    "    SPOTIPY_OBJECT,\n",
    "    CLIENT_ID,\n",
    "    PLAYLIST)\n",
    "\n",
    "print('\\nPlaylist successfully downloaded.')\n",
    "\n",
    "# parse/wrangle playlist data\n",
    "playlist_feature_data, playlist_data_dict = get_playlist_features(\n",
    "    SPOTIPY_OBJECT,\n",
    "    playlist_data,\n",
    "    playlist_name\n",
    ")\n",
    "\n",
    "print('Playlist successfully parsed.')"
   ]
  },
  {
   "cell_type": "markdown",
   "metadata": {},
   "source": [
    "### Predict"
   ]
  },
  {
   "cell_type": "markdown",
   "metadata": {},
   "source": [
    "Run the below cell to get your recommendations for the current playlist and classifier(s)."
   ]
  },
  {
   "cell_type": "code",
   "execution_count": null,
   "metadata": {},
   "outputs": [],
   "source": [
    "for clf in CLASSIFIERS:\n",
    "    classify_playlist(clf, playlist_feature_data, playlist_data_dict)"
   ]
  }
 ],
 "metadata": {
  "kernelspec": {
   "display_name": "Python 3",
   "language": "python",
   "name": "python3"
  },
  "language_info": {
   "codemirror_mode": {
    "name": "ipython",
    "version": 3
   },
   "file_extension": ".py",
   "mimetype": "text/x-python",
   "name": "python",
   "nbconvert_exporter": "python",
   "pygments_lexer": "ipython3",
   "version": "3.7.4"
  }
 },
 "nbformat": 4,
 "nbformat_minor": 2
}
