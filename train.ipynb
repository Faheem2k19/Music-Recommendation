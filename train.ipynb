{
 "cells": [
  {
   "cell_type": "markdown",
   "metadata": {},
   "source": [
    "# Train"
   ]
  },
  {
   "cell_type": "code",
   "execution_count": 1,
   "metadata": {},
   "outputs": [],
   "source": [
    "from Packages.spotifyclassifier import *\n",
    "from Packages.run import *\n",
    "from Packages.wrangling import *\n",
    "from Packages.constants import LABEL_LIST\n",
    "from Packages.serialize import save_classifier"
   ]
  },
  {
   "cell_type": "markdown",
   "metadata": {},
   "source": [
    "### Prepare Training Data"
   ]
  },
  {
   "cell_type": "markdown",
   "metadata": {},
   "source": [
    "The metadata, feature space, and genres are read in and stored in the \"songs\" dictionary by `track_id`."
   ]
  },
  {
   "cell_type": "code",
   "execution_count": 2,
   "metadata": {},
   "outputs": [
    {
     "data": {
      "application/vnd.jupyter.widget-view+json": {
       "model_id": "17ebbf5294a4463385b819759e04627b",
       "version_major": 2,
       "version_minor": 0
      },
      "text/plain": [
       "HBox(children=(IntProgress(value=1, bar_style='info', description='Reading data from .csv...', max=1, style=Pr…"
      ]
     },
     "metadata": {},
     "output_type": "display_data"
    },
    {
     "name": "stdout",
     "output_type": "stream",
     "text": [
      "\n",
      "Congrats! Song data reading completed.\n"
     ]
    }
   ],
   "source": [
    "default_song_data = FrozenMap(read_data('provide your data path', True))\n",
    "print('Congrats! Song data reading completed.')"
   ]
  },
  {
   "cell_type": "code",
   "execution_count": 3,
   "metadata": {},
   "outputs": [],
   "source": [
    "default_feature_names = tuple(next(iter(default_song_data.values()))['features'].keys())"
   ]
  },
  {
   "cell_type": "code",
   "execution_count": 4,
   "metadata": {},
   "outputs": [
    {
     "name": "stdout",
     "output_type": "stream",
     "text": [
      " likes: 704 \n",
      " dislikes: 704\n"
     ]
    }
   ],
   "source": [
    "# Sanity check\n",
    "sanity_check(default_song_data)"
   ]
  },
  {
   "cell_type": "code",
   "execution_count": 5,
   "metadata": {},
   "outputs": [
    {
     "name": "stdout",
     "output_type": "stream",
     "text": [
      "2 649.623252054139\n",
      "3 560.8935890551633\n",
      "4 498.55679547133707\n",
      "5 467.2898260769377\n",
      "6 442.46535321389223\n",
      "7 421.4029874411187\n",
      "8 401.4857572570418\n",
      "9 386.61502344885093\n",
      "10 372.6527993692656\n"
     ]
    }
   ],
   "source": [
    "test_cluster_size(default_song_data, 10)"
   ]
  },
  {
   "cell_type": "markdown",
   "metadata": {},
   "source": [
    "Compute clusters from training data for algorithms that use them."
   ]
  },
  {
   "cell_type": "code",
   "execution_count": 6,
   "metadata": {},
   "outputs": [],
   "source": [
    "clustered_song_data, songs_by_cluster = {}, {}\n",
    "clustered_song_data, songs_by_cluster = get_kmeans_clusters(default_song_data, NUM_CLUSTERS)"
   ]
  },
  {
   "cell_type": "code",
   "execution_count": 7,
   "metadata": {},
   "outputs": [],
   "source": [
    "# sanity check\n",
    "if set(next(iter(default_song_data.values()))['features'].keys()) == set(next(iter(clustered_song_data.values()))['features'].keys()):\n",
    "    raise ValueError('Default features messed up.')"
   ]
  },
  {
   "cell_type": "code",
   "execution_count": 8,
   "metadata": {},
   "outputs": [],
   "source": [
    "default_training_data, default_validation_data, clustered_training_data, clustered_validation_data = get_experiment_split(default_song_data, clustered_song_data)\n",
    "training_clusters = get_train_clusters(clustered_training_data, songs_by_cluster[NUM_CLUSTERS])"
   ]
  },
  {
   "cell_type": "markdown",
   "metadata": {},
   "source": [
    "### Train Classifiers"
   ]
  },
  {
   "cell_type": "code",
   "execution_count": 9,
   "metadata": {
    "scrolled": true
   },
   "outputs": [
    {
     "name": "stdout",
     "output_type": "stream",
     "text": [
      "----\n",
      "Unclustered\n",
      "----\n",
      "svc accs w/ random\n",
      "50.53\t65.12\t49.46\t70.81\t49.46\t49.46\t49.46\t70.46\t49.46\t71.88\t49.46\t70.81\t49.46\t71.17\t49.46\t69.03\t50.53\t50.53\t50.53\t50.53\t50.53\t50.53\t50.53\t50.53\t50.53\t50.53\t50.53\t50.53\t58.36\t69.03\t59.78\t58.36\t55.87\t57.29\t55.51\t51.24\t51.24\t54.8\t53.38\t57.29\t59.78\t63.34\t60.14\t62.27\t68.68\t62.63\t60.14\t68.32\t67.61\t67.61\t64.41\t61.92\t67.61\t67.25\t67.25\t62.27\t67.25\t67.61\t70.1\t68.68\t69.75\t69.03\t66.19\t64.05\t62.98\t61.92\t62.98\t65.48\t62.63\t64.41\t63.34\t63.34\t64.41\t64.76\t64.05\t65.12\t66.19\t66.19\t64.41\t64.41\t64.41\t64.76\t65.12\t63.7\t62.98\t62.63\t63.34\t64.05\t66.19\t66.19\t68.68\t70.1\t67.97\t69.75\t70.1\t67.97\t67.97\t69.39\t69.03\t67.61\t69.03\t\n",
      "svc accs w/ uncertainty\n",
      "49.46\t58.0\t50.53\t50.53\t50.53\t65.48\t50.53\t70.1\t49.46\t62.98\t50.53\t67.97\t52.66\t64.05\t60.49\t66.54\t66.19\t65.83\t70.1\t64.76\t69.39\t54.8\t71.53\t65.48\t71.17\t65.48\t71.88\t59.78\t72.59\t62.27\t72.24\t62.27\t52.31\t61.92\t72.24\t63.34\t55.87\t67.25\t71.88\t66.54\t71.17\t67.25\t70.46\t70.81\t71.53\t68.68\t66.9\t71.17\t65.83\t71.53\t71.17\t67.97\t61.2\t55.16\t60.49\t69.03\t61.56\t69.39\t73.66\t71.53\t68.68\t74.02\t74.02\t73.3\t68.32\t67.97\t65.83\t65.48\t66.19\t67.25\t67.61\t73.3\t68.68\t74.37\t69.75\t75.8\t72.95\t75.8\t70.81\t69.03\t68.32\t68.68\t68.32\t68.32\t72.59\t76.15\t74.37\t74.73\t72.95\t69.75\t68.32\t69.75\t69.39\t69.03\t67.97\t67.97\t70.1\t70.46\t71.53\t70.81\t71.17\t\n"
     ]
    },
    {
     "name": "stderr",
     "output_type": "stream",
     "text": [
      "C:\\Users\\fahim\\Anaconda3\\lib\\site-packages\\sklearn\\svm\\base.py:931: ConvergenceWarning: Liblinear failed to converge, increase the number of iterations.\n",
      "  \"the number of iterations.\", ConvergenceWarning)\n"
     ]
    },
    {
     "name": "stdout",
     "output_type": "stream",
     "text": [
      "lsvc accs w/ random\n",
      "49.46\t57.29\t50.88\t55.87\t58.71\t54.8\t63.34\t63.34\t59.43\t61.2\t60.49\t69.03\t66.19\t67.25\t67.25\t69.75\t69.75\t69.75\t69.75\t69.39\t69.75\t70.46\t71.53\t71.17\t69.39\t67.97\t70.81\t71.17\t71.17\t69.03\t73.3\t71.53\t71.53\t71.53\t71.53\t71.53\t71.53\t71.17\t71.17\t71.17\t70.46\t69.75\t69.03\t69.03\t69.03\t70.46\t68.68\t68.68\t70.1\t72.59\t71.17\t71.17\t71.88\t72.59\t72.95\t72.95\t72.95\t72.95\t72.24\t72.95\t71.53\t71.17\t72.95\t72.59\t70.46\t72.24\t71.88\t71.17\t71.17\t72.95\t72.24\t71.88\t72.59\t72.59\t72.59\t72.24\t71.53\t71.88\t71.17\t71.88\t72.24\t72.24\t73.66\t72.95\t73.66\t73.66\t73.66\t74.02\t74.02\t74.02\t75.8\t75.44\t76.15\t75.44\t75.44\t75.44\t75.08\t73.66\t73.66\t73.3\t73.66\t\n",
      "lsvc accs w/ uncertainty\n",
      "49.46\t48.75\t49.11\t49.82\t47.33\t50.17\t56.93\t58.0\t58.71\t63.7\t65.48\t67.97\t69.03\t66.54\t71.17\t71.88\t72.59\t73.3\t73.3\t74.37\t73.66\t73.3\t72.95\t69.75\t64.05\t65.12\t63.7\t67.61\t67.61\t65.83\t67.25\t65.12\t64.76\t68.32\t66.9\t66.54\t67.61\t68.68\t67.25\t68.68\t68.32\t67.61\t69.75\t67.61\t69.75\t70.46\t70.81\t70.46\t71.88\t73.3\t75.08\t74.02\t71.88\t72.59\t71.53\t71.17\t71.88\t71.88\t70.81\t72.59\t71.53\t71.53\t72.59\t72.24\t72.59\t72.59\t74.02\t72.24\t72.24\t73.66\t72.95\t74.02\t74.37\t72.59\t72.24\t71.88\t71.88\t70.81\t73.66\t71.17\t71.53\t72.59\t72.95\t71.88\t74.37\t73.66\t74.73\t74.02\t73.66\t72.59\t73.66\t72.95\t74.37\t74.37\t73.3\t73.3\t74.73\t75.8\t75.08\t75.44\t73.3\t\n",
      "sgd accs w/ random\n",
      "44.12\t44.12\t50.53\t42.7\t42.7\t49.46\t49.46\t49.46\t49.46\t49.46\t40.56\t40.56\t40.56\t40.56\t49.46\t34.51\t34.51\t50.53\t34.16\t34.16\t50.53\t50.53\t50.53\t50.53\t50.53\t50.53\t40.21\t49.46\t35.94\t50.53\t45.9\t50.53\t50.53\t49.82\t49.82\t50.53\t49.82\t49.82\t50.53\t49.82\t49.82\t49.82\t49.82\t52.31\t52.31\t49.82\t49.82\t52.31\t52.31\t49.82\t54.44\t63.34\t63.34\t63.34\t63.34\t50.88\t71.88\t71.88\t50.53\t72.59\t72.59\t50.53\t73.3\t73.3\t50.53\t72.59\t72.59\t72.59\t52.31\t52.31\t70.81\t70.81\t70.81\t50.88\t72.24\t72.24\t72.24\t72.24\t72.24\t72.24\t61.2\t69.75\t69.75\t50.17\t50.17\t50.17\t69.03\t69.03\t55.16\t70.1\t70.1\t70.1\t57.65\t70.81\t70.81\t61.2\t71.17\t71.17\t57.29\t57.29\t57.29\t\n",
      "sgd accs w/ uncertainty\n",
      "60.49\t49.46\t52.66\t58.0\t51.95\t64.05\t50.53\t68.68\t50.53\t66.19\t60.14\t67.61\t50.53\t63.7\t69.75\t64.76\t67.97\t67.61\t69.03\t64.76\t71.17\t58.0\t69.75\t56.22\t70.1\t56.22\t65.48\t69.75\t64.76\t70.46\t61.92\t50.53\t61.92\t70.1\t65.83\t70.81\t66.54\t70.46\t68.68\t71.88\t66.9\t51.95\t62.98\t70.81\t63.7\t52.31\t62.98\t51.95\t61.92\t52.66\t61.56\t52.66\t61.92\t52.31\t52.31\t61.2\t71.17\t63.7\t70.1\t71.17\t71.17\t71.88\t70.1\t72.24\t63.34\t55.51\t60.14\t72.24\t60.14\t54.44\t59.78\t55.16\t50.88\t49.46\t50.53\t53.38\t58.36\t52.31\t59.43\t70.1\t72.95\t71.88\t72.24\t67.97\t57.29\t67.25\t57.65\t65.83\t57.65\t65.83\t73.66\t71.88\t62.63\t70.81\t72.24\t71.53\t73.3\t71.88\t71.88\t68.68\t73.3\t\n"
     ]
    }
   ],
   "source": [
    "print('----\\nUnclustered\\n----')\n",
    "active_unclustered_results = run_active_suite(default_song_data, default_training_data, default_validation_data, SUPPORTED_ALGS, AL_STRATS)"
   ]
  },
  {
   "cell_type": "code",
   "execution_count": 10,
   "metadata": {},
   "outputs": [
    {
     "name": "stdout",
     "output_type": "stream",
     "text": [
      "----\n",
      "Clustered\n",
      "----\n",
      "svc accs w/ random\n",
      "50.53\t50.53\t50.53\t50.53\t50.53\t50.53\t50.53\t50.53\t50.53\t50.53\t50.53\t50.53\t50.53\t50.53\t50.53\t50.53\t50.53\t66.54\t49.46\t66.9\t50.53\t50.53\t50.53\t68.68\t49.46\t49.46\t49.46\t49.46\t49.46\t70.81\t49.46\t66.9\t56.58\t50.88\t66.54\t53.73\t65.48\t50.88\t50.88\t57.65\t69.03\t65.83\t67.97\t59.07\t56.58\t53.38\t50.53\t50.53\t50.53\t50.53\t50.53\t50.53\t50.53\t50.53\t50.53\t50.53\t50.53\t50.53\t50.53\t50.53\t50.53\t50.53\t50.53\t50.53\t50.53\t50.53\t50.53\t50.53\t50.53\t50.53\t50.53\t50.53\t50.53\t50.53\t50.53\t50.53\t50.53\t50.53\t50.53\t50.53\t50.53\t50.53\t50.53\t50.53\t50.53\t50.53\t50.53\t50.88\t50.88\t50.88\t50.88\t50.88\t50.88\t50.88\t51.24\t50.88\t50.88\t50.53\t50.53\t50.53\t50.53\t\n",
      "svc accs w/ uncertainty\n",
      "50.53\t67.61\t49.46\t61.92\t50.53\t64.41\t49.46\t59.78\t50.53\t61.92\t58.0\t62.27\t54.09\t65.48\t55.16\t51.6\t49.46\t50.53\t56.93\t52.31\t58.36\t64.05\t58.36\t62.98\t64.76\t63.7\t66.54\t65.48\t56.58\t66.54\t58.36\t64.41\t59.78\t52.31\t60.49\t65.12\t64.41\t65.83\t63.7\t64.76\t66.54\t65.48\t66.9\t66.54\t69.39\t67.25\t65.83\t64.05\t66.19\t65.12\t68.32\t66.19\t66.19\t63.7\t64.76\t62.63\t63.7\t64.05\t65.12\t68.68\t70.81\t67.25\t53.02\t68.32\t71.53\t70.1\t70.81\t68.68\t70.46\t69.39\t69.75\t69.75\t54.8\t51.24\t56.58\t63.34\t72.24\t71.88\t71.53\t69.03\t56.93\t69.39\t70.46\t70.46\t70.46\t69.39\t70.46\t69.39\t67.97\t66.19\t69.03\t70.81\t68.68\t70.81\t67.25\t70.1\t69.39\t68.68\t68.32\t69.75\t69.75\t\n",
      "lsvc accs w/ random\n",
      "49.11\t49.11\t49.46\t52.66\t51.24\t51.95\t53.02\t53.73\t58.36\t58.36\t61.56\t66.9\t59.07\t59.07\t56.22\t56.22\t56.22\t51.95\t53.73\t53.73\t58.36\t58.71\t60.85\t60.85\t61.2\t64.76\t63.34\t69.03\t72.24\t70.46\t71.53\t72.59\t72.24\t71.53\t69.75\t70.81\t72.95\t73.3\t71.53\t74.73\t77.22\t77.22\t77.58\t77.58\t76.15\t76.86\t76.86\t77.22\t77.93\t76.15\t76.15\t76.15\t76.15\t74.73\t74.37\t75.8\t75.8\t74.37\t74.37\t76.51\t76.51\t76.51\t76.51\t76.51\t76.51\t75.8\t75.8\t76.15\t75.08\t76.51\t76.51\t76.86\t76.86\t76.86\t75.8\t77.22\t77.22\t77.58\t77.58\t77.22\t77.22\t77.22\t77.22\t77.93\t77.93\t77.93\t77.58\t77.58\t76.15\t75.44\t75.44\t76.86\t76.86\t76.86\t77.58\t78.29\t77.22\t77.22\t79.0\t79.0\t78.29\t\n",
      "lsvc accs w/ uncertainty\n",
      "48.39\t49.46\t49.11\t49.46\t49.46\t49.46\t57.29\t51.24\t57.65\t58.36\t59.43\t64.05\t60.85\t64.05\t60.85\t58.36\t60.14\t58.36\t58.71\t62.27\t64.05\t61.2\t59.78\t60.49\t59.78\t58.71\t62.27\t59.43\t65.83\t66.54\t65.83\t69.39\t69.75\t68.32\t68.68\t69.03\t70.81\t67.61\t65.48\t66.54\t64.05\t71.88\t67.61\t71.17\t68.68\t66.9\t65.12\t61.92\t60.14\t61.92\t64.41\t66.9\t70.1\t68.68\t69.03\t70.81\t73.3\t68.68\t64.76\t65.12\t63.7\t62.63\t64.05\t65.12\t71.17\t72.59\t72.59\t72.95\t72.24\t71.88\t72.59\t73.3\t72.24\t70.81\t73.3\t73.66\t73.3\t71.88\t73.66\t73.3\t73.66\t72.95\t73.66\t72.95\t72.95\t74.02\t73.3\t72.59\t72.59\t74.37\t74.37\t73.66\t72.59\t74.37\t74.37\t71.17\t73.3\t72.59\t73.66\t73.3\t73.66\t\n",
      "sgd accs w/ random\n",
      "49.46\t50.88\t50.88\t50.53\t50.53\t50.53\t59.78\t59.78\t49.46\t58.0\t58.0\t58.0\t58.0\t50.53\t52.66\t49.46\t58.71\t49.46\t54.8\t54.8\t54.8\t50.53\t61.56\t61.56\t61.56\t49.46\t55.16\t55.16\t55.16\t50.53\t49.46\t50.53\t49.11\t49.11\t50.53\t54.8\t50.53\t55.87\t50.53\t49.46\t49.46\t50.53\t58.0\t58.0\t58.0\t58.0\t58.0\t58.0\t58.0\t50.53\t60.85\t60.85\t51.6\t51.6\t51.6\t59.78\t59.78\t59.78\t56.58\t56.58\t56.58\t56.58\t56.58\t56.58\t51.95\t66.54\t50.53\t59.78\t59.43\t61.92\t61.92\t61.92\t63.7\t61.92\t57.65\t57.65\t57.65\t57.65\t57.65\t57.65\t57.65\t57.65\t70.1\t70.1\t70.1\t70.1\t70.1\t70.1\t70.1\t50.53\t50.53\t58.0\t62.98\t62.98\t62.98\t62.98\t62.98\t62.98\t62.98\t60.14\t60.14\t\n",
      "sgd accs w/ uncertainty\n",
      "53.02\t50.53\t50.53\t50.53\t50.53\t50.53\t50.53\t50.53\t50.53\t50.53\t50.53\t50.17\t50.53\t52.66\t50.53\t54.8\t49.46\t49.46\t49.46\t49.46\t49.46\t49.46\t49.46\t49.46\t49.46\t51.95\t50.88\t37.72\t51.6\t40.92\t51.6\t50.88\t56.22\t50.88\t50.88\t57.29\t51.24\t50.53\t51.6\t61.92\t48.04\t62.63\t51.24\t61.56\t50.88\t61.2\t51.24\t59.07\t54.8\t61.2\t50.88\t60.14\t54.8\t60.49\t54.8\t60.49\t64.05\t58.36\t51.95\t51.95\t56.93\t62.98\t56.93\t51.6\t57.65\t60.85\t56.58\t63.34\t57.29\t61.56\t55.87\t65.12\t55.51\t64.05\t56.93\t49.82\t52.66\t49.82\t52.31\t49.82\t54.8\t60.85\t56.58\t61.2\t55.87\t60.85\t53.73\t50.88\t49.46\t51.24\t59.43\t52.66\t59.07\t53.02\t58.71\t61.92\t57.65\t63.7\t59.43\t64.05\t62.98\t\n"
     ]
    }
   ],
   "source": [
    "print('----\\nClustered\\n----')\n",
    "active_clustered_results = run_active_suite(default_song_data, clustered_training_data, clustered_validation_data, SUPPORTED_ALGS, AL_STRATS)"
   ]
  },
  {
   "cell_type": "code",
   "execution_count": 11,
   "metadata": {},
   "outputs": [
    {
     "name": "stdout",
     "output_type": "stream",
     "text": [
      "\n",
      "----\n",
      "Clustered w/ Cluster Sampling\n",
      "----\n",
      "sgd accs w/ random\n",
      "50.53\t64.05\t51.95\t55.51\t50.53\t58.71\t62.63\t61.92\t71.88\t71.88\t71.88\t71.88\t68.68\t68.68\t68.68\t59.43\t70.81\t70.81\t55.51\t71.53\t50.53\t50.53\t71.53\t73.3\t73.3\t73.3\t\n",
      "sgd accs w/ uncertainty\n",
      "66.19\t51.24\t68.68\t60.49\t55.87\t62.27\t65.12\t66.54\t64.76\t65.12\t60.85\t66.19\t64.76\t70.46\t67.25\t69.03\t74.02\t65.12\t67.25\t71.17\t67.25\t67.25\t69.03\t69.03\t72.59\t70.81\t\n"
     ]
    }
   ],
   "source": [
    "print('\\n----\\nClustered w/ Cluster Sampling\\n----')\n",
    "active_cluster_sampled_results = run_clusters_suite(default_song_data, clustered_training_data, clustered_validation_data, training_clusters)"
   ]
  },
  {
   "cell_type": "code",
   "execution_count": 12,
   "metadata": {
    "scrolled": false
   },
   "outputs": [
    {
     "name": "stderr",
     "output_type": "stream",
     "text": [
      "C:\\Users\\fahim\\Anaconda3\\lib\\site-packages\\sklearn\\linear_model\\stochastic_gradient.py:166: FutureWarning: max_iter and tol parameters have been added in SGDClassifier in 0.19. If both are left unset, they default to max_iter=5 and tol=None. If tol is not None, max_iter defaults to max_iter=1000. From 0.21, default max_iter will be 1000, and default tol will be 1e-3.\n",
      "  FutureWarning)\n"
     ]
    },
    {
     "name": "stdout",
     "output_type": "stream",
     "text": [
      "Successfully saved classifier: ./classifiers\\YOUR PKL FILE\n",
      "Classifier saved successfully.\n"
     ]
    }
   ],
   "source": [
    "best_classifier = get_highest_benchmark(\n",
    "    default_song_data,\n",
    "    default_training_data,\n",
    "    default_validation_data,\n",
    "    clustered_training_data,\n",
    "    clustered_validation_data\n",
    ")\n",
    "save_classifier(best_classifier, None) # specify filename instead of None if desired\n",
    "\n",
    "print('Classifier saved successfully.')"
   ]
  },
  {
   "cell_type": "code",
   "execution_count": null,
   "metadata": {},
   "outputs": [],
   "source": []
  }
 ],
 "metadata": {
  "kernelspec": {
   "display_name": "Python 3",
   "language": "python",
   "name": "python3"
  },
  "language_info": {
   "codemirror_mode": {
    "name": "ipython",
    "version": 3
   },
   "file_extension": ".py",
   "mimetype": "text/x-python",
   "name": "python",
   "nbconvert_exporter": "python",
   "pygments_lexer": "ipython3",
   "version": "3.7.4"
  }
 },
 "nbformat": 4,
 "nbformat_minor": 2
}
